{
 "cells": [
  {
   "cell_type": "code",
   "execution_count": 3,
   "metadata": {},
   "outputs": [
    {
     "name": "stdout",
     "output_type": "stream",
     "text": [
      "Image saved to ./img\\image_1_variation.png\n",
      "Image saved to ./img\\image_2_variation.png\n"
     ]
    }
   ],
   "source": [
    "# Example 04 - Generate an image variation based on previous image\n",
    "from dotenv import load_dotenv\n",
    "import sys, os\n",
    "from openai import OpenAI\n",
    "import requests\n",
    "\n",
    "openai = OpenAI()\n",
    "\n",
    "def save_image(url, image_name):\n",
    "    directory = os.curdir + \"/img\"\n",
    "    filename  = os.path.join(directory, image_name)\n",
    "    if not os.path.isdir(directory):\n",
    "        os.mkdir(directory)\n",
    "    image_data = requests.get(url).content\n",
    "    with open (filename, 'wb') as f:\n",
    "        f.write(image_data)\n",
    "    print (f\"Image saved to {filename}\" )\n",
    "\n",
    "\n",
    "model = \"dall-e-3\"\n",
    "\n",
    "file_content = open(\"./img/image_01.png\",\"rb\")\n",
    "response_img = openai.images.create_variation(\n",
    "        image=file_content,\n",
    "        n=2\n",
    ")\n",
    "\n",
    "idx = 1\n",
    "for i in response_img.data:\n",
    "    url =  i.url\n",
    "    save_image(url=url, image_name=f\"image_{idx}_variation.png\")\n",
    "    idx += 1"
   ]
  }
 ],
 "metadata": {
  "kernelspec": {
   "display_name": "Python 3",
   "language": "python",
   "name": "python3"
  },
  "language_info": {
   "codemirror_mode": {
    "name": "ipython",
    "version": 3
   },
   "file_extension": ".py",
   "mimetype": "text/x-python",
   "name": "python",
   "nbconvert_exporter": "python",
   "pygments_lexer": "ipython3",
   "version": "3.10.4"
  }
 },
 "nbformat": 4,
 "nbformat_minor": 2
}
