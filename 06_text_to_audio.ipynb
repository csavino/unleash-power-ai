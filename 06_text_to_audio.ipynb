{
 "cells": [
  {
   "cell_type": "code",
   "execution_count": null,
   "metadata": {},
   "outputs": [],
   "source": [
    "# Example 06 - Text to Audio\n",
    "from openai import OpenAI\n",
    "client = OpenAI()\n",
    "\n",
    "response = client.audio.speech.create(\n",
    "    model=\"tts-1\",\n",
    "    voice=\"alloy\",\n",
    "    input=\"\"\"\n",
    "            Hello World ! Let's read this text today.\n",
    "        \"\"\"\n",
    ")\n",
    "\n",
    "response.stream_to_file(\"output2.mp3\")\n",
    "\n",
    "\n",
    "from pydub import AudioSegment, playback\n",
    "\n",
    "audio_file = AudioSegment.from_mp3('output.mp3')\n",
    "playback.play(audio_file)\n"
   ]
  }
 ],
 "metadata": {
  "kernelspec": {
   "display_name": "Python 3",
   "language": "python",
   "name": "python3"
  },
  "language_info": {
   "codemirror_mode": {
    "name": "ipython",
    "version": 3
   },
   "file_extension": ".py",
   "mimetype": "text/x-python",
   "name": "python",
   "nbconvert_exporter": "python",
   "pygments_lexer": "ipython3",
   "version": "3.10.4"
  }
 },
 "nbformat": 4,
 "nbformat_minor": 2
}
