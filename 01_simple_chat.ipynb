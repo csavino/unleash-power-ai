{
 "cells": [
  {
   "cell_type": "code",
   "execution_count": 2,
   "metadata": {},
   "outputs": [
    {
     "name": "stdout",
     "output_type": "stream",
     "text": [
      "The Earth is approximately 4.54 billion years old.\n"
     ]
    }
   ],
   "source": [
    "# Example 01\n",
    "# Simple Chat Completion\n",
    "from dotenv import load_dotenv\n",
    "import sys, os\n",
    "from openai import OpenAI\n",
    "\n",
    "load_dotenv()\n",
    "\n",
    "client = OpenAI(\n",
    "    # This is the default and can be omitted\n",
    "    api_key=os.environ.get(\"OPENAI_API_KEY\"),\n",
    ")\n",
    "\n",
    "response = client.chat.completions.create(model=\"gpt-4\",\n",
    "                           messages=[ {\n",
    "                                \"role\": \"user\",\n",
    "                                \"content\": \"How old is the earth? \",\n",
    "                            }]\n",
    ")\n",
    "for  choice in response.choices:\n",
    "    print (choice.message.content)\n"
   ]
  }
 ],
 "metadata": {
  "kernelspec": {
   "display_name": "Python 3",
   "language": "python",
   "name": "python3"
  },
  "language_info": {
   "codemirror_mode": {
    "name": "ipython",
    "version": 3
   },
   "file_extension": ".py",
   "mimetype": "text/x-python",
   "name": "python",
   "nbconvert_exporter": "python",
   "pygments_lexer": "ipython3",
   "version": "3.10.4"
  }
 },
 "nbformat": 4,
 "nbformat_minor": 2
}
