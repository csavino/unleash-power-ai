{
 "cells": [
  {
   "cell_type": "code",
   "execution_count": 3,
   "metadata": {},
   "outputs": [
    {
     "name": "stdout",
     "output_type": "stream",
     "text": [
      "Image saved to ./img\\image_1_variation.png\n",
      "Image saved to ./img\\image_2_variation.png\n"
     ]
    }
   ],
   "source": [
    "# Example 05 - Audio Transcription\n",
    "import whisper\n",
    "model = whisper.load_model('base')\n",
    "option = whisper.DecodingOptions(language='en', fp16=False)\n",
    "result = model.transcribe(\"audio/audio01.wav\")\n",
    "print (result['text'])"
   ]
  }
 ],
 "metadata": {
  "kernelspec": {
   "display_name": "Python 3",
   "language": "python",
   "name": "python3"
  },
  "language_info": {
   "codemirror_mode": {
    "name": "ipython",
    "version": 3
   },
   "file_extension": ".py",
   "mimetype": "text/x-python",
   "name": "python",
   "nbconvert_exporter": "python",
   "pygments_lexer": "ipython3",
   "version": "3.10.4"
  }
 },
 "nbformat": 4,
 "nbformat_minor": 2
}
