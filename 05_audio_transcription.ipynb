{
 "cells": [
  {
   "cell_type": "code",
   "execution_count": 1,
   "metadata": {},
   "outputs": [
    {
     "name": "stderr",
     "output_type": "stream",
     "text": [
      "d:\\Dropbox\\PLR\\ChatGPT\\Python\\unleash-power-ai\\unleash\\lib\\site-packages\\whisper\\transcribe.py:115: UserWarning: FP16 is not supported on CPU; using FP32 instead\n",
      "  warnings.warn(\"FP16 is not supported on CPU; using FP32 instead\")\n"
     ]
    },
    {
     "name": "stdout",
     "output_type": "stream",
     "text": [
      " Under a vast, scary sky, dreams weave through the whispering night, painting hopes in the canvas of our hearts.\n"
     ]
    }
   ],
   "source": [
    "# Example 05 - Audio Transcription\n",
    "import whisper\n",
    "model = whisper.load_model('base')\n",
    "option = whisper.DecodingOptions(language='en', fp16=False)\n",
    "result = model.transcribe(\"audio/audio01.wav\")\n",
    "print (result['text'])"
   ]
  }
 ],
 "metadata": {
  "kernelspec": {
   "display_name": "Python 3",
   "language": "python",
   "name": "python3"
  },
  "language_info": {
   "codemirror_mode": {
    "name": "ipython",
    "version": 3
   },
   "file_extension": ".py",
   "mimetype": "text/x-python",
   "name": "python",
   "nbconvert_exporter": "python",
   "pygments_lexer": "ipython3",
   "version": "3.10.4"
  }
 },
 "nbformat": 4,
 "nbformat_minor": 2
}
