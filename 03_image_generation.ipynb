{
 "cells": [
  {
   "cell_type": "code",
   "execution_count": 2,
   "metadata": {},
   "outputs": [
    {
     "name": "stdout",
     "output_type": "stream",
     "text": [
      "Visualize a vibrant colored rocket as it makes an orbit around the moon. The rocket possesses an aesthetic similar to artwork found during the steam punk era, with ornate metallic patterning and a plethora of gears visible. The moon occupies a significant part of the backdrop, its craters and valleys illuminated by sun's direct rays. Stars sprinkle the surrounding space while Earth is visible in the far distance. The scene plays out against a canvas of deep space, where darkness battles constant flickers of distant stars and galaxies.\n",
      "Image saved to ./img\\image_01.png\n"
     ]
    }
   ],
   "source": [
    "# Example 03 - Generate image using dall-e model and save the image locally\n",
    "from dotenv import load_dotenv\n",
    "import sys, os\n",
    "from openai import OpenAI\n",
    "import requests\n",
    "\n",
    "openai = OpenAI()\n",
    "\n",
    "def save_image(url, image_name):\n",
    "    directory = os.curdir + \"/img\"\n",
    "    filename  = os.path.join(directory, image_name)\n",
    "    if not os.path.isdir(directory):\n",
    "        os.mkdir(directory)\n",
    "    image_data = requests.get(url).content\n",
    "    with open (filename, 'wb') as f:\n",
    "        f.write(image_data)\n",
    "    print (f\"Image saved to {filename}\" )\n",
    "\n",
    "\n",
    "prompt = \"colored rocket orbiting the moon\"\n",
    "model = \"dall-e-3\"\n",
    "\n",
    "# Generate an image based on the prompt\n",
    "response_img = openai.images.generate(prompt=prompt, model=model)\n",
    "\n",
    "# Prints the revised prompt and the corresponding URL with the generated image\n",
    "print (response_img.data[0].revised_prompt)\n",
    "url = response_img.data[0].url\n",
    "\n",
    "save_image(url=url, image_name=\"image_01.png\")"
   ]
  }
 ],
 "metadata": {
  "kernelspec": {
   "display_name": "Python 3",
   "language": "python",
   "name": "python3"
  },
  "language_info": {
   "codemirror_mode": {
    "name": "ipython",
    "version": 3
   },
   "file_extension": ".py",
   "mimetype": "text/x-python",
   "name": "python",
   "nbconvert_exporter": "python",
   "pygments_lexer": "ipython3",
   "version": "3.10.4"
  }
 },
 "nbformat": 4,
 "nbformat_minor": 2
}
